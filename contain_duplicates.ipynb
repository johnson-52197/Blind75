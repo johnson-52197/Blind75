{
 "cells": [
  {
   "cell_type": "code",
   "execution_count": null,
   "metadata": {},
   "outputs": [],
   "source": [
    "\"\"\"\n",
    "Given an integer array nums, return true if any value appears at least twice in the array, and return false if every element is distinct.\n",
    "\"\"\""
   ]
  },
  {
   "cell_type": "code",
   "execution_count": null,
   "metadata": {},
   "outputs": [],
   "source": [
    "def containsDuplicate(self, nums: List[int]) -> bool:\n",
    "    flag = False\n",
    "    for i in range(len(nums)):\n",
    "        for j in range(i, len(nums)):\n",
    "            if nums[i] == nums[j]:\n",
    "                flag = True\n",
    "                break\n",
    "    if flag:\n",
    "        return True\n",
    "    else:\n",
    "        return False\n"
   ]
  }
 ],
 "metadata": {
  "language_info": {
   "name": "python"
  },
  "orig_nbformat": 4
 },
 "nbformat": 4,
 "nbformat_minor": 2
}
