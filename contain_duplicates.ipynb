{
 "cells": [
  {
   "cell_type": "code",
   "execution_count": null,
   "metadata": {},
   "outputs": [],
   "source": [
    "\"\"\"\n",
    "Given an integer array nums, return true if any value appears at least twice in the array, and return false if every element is distinct.\n",
    "\"\"\""
   ]
  },
  {
   "cell_type": "code",
   "execution_count": 11,
   "metadata": {},
   "outputs": [
    {
     "name": "stdout",
     "output_type": "stream",
     "text": [
      "4\n"
     ]
    },
    {
     "data": {
      "text/plain": [
       "True"
      ]
     },
     "execution_count": 11,
     "metadata": {},
     "output_type": "execute_result"
    }
   ],
   "source": [
    "# timeLimit Exceeded\n",
    "def containsDuplicate(nums) -> bool:\n",
    "    flag = False\n",
    "    for i in range(len(nums)):\n",
    "        for j in range(i+1, len(nums)):\n",
    "            if nums[i] == nums[j]:\n",
    "                flag = True\n",
    "                print(nums[i])\n",
    "                break\n",
    "        if flag:\n",
    "            return True\n",
    "    return False\n",
    "\n",
    "containsDuplicate([1,2,3,4,5,4,5])"
   ]
  },
  {
   "cell_type": "code",
   "execution_count": 14,
   "metadata": {},
   "outputs": [
    {
     "data": {
      "text/plain": [
       "False"
      ]
     },
     "execution_count": 14,
     "metadata": {},
     "output_type": "execute_result"
    }
   ],
   "source": [
    "def containsDuplicate(nums) -> bool:\n",
    "    helper = {}\n",
    "    for num in nums:\n",
    "        if num in helper:\n",
    "            return True\n",
    "        helper[num] = 1\n",
    "    return False\n",
    "\n",
    "def containsDuplicate(nums) -> bool:\n",
    "        n = len(set(nums))\n",
    "        if n == len(nums):\n",
    "            return False\n",
    "        else:\n",
    "            return True"
   ]
  },
  {
   "cell_type": "code",
   "execution_count": null,
   "metadata": {},
   "outputs": [],
   "source": [
    "# best runtime solutions\n",
    "\"\"\"\n",
    "def containsDuplicate(self, nums: List[int]) -> bool:\n",
    "        h = set()\n",
    "        for i in nums:\n",
    "            if i in h:\n",
    "                return True\n",
    "            h.add(i)\n",
    "        return False\n",
    "\"\"\"\n",
    "\n",
    "# simplest solution\n",
    "\"\"\" \n",
    "def containsDuplicate(self, nums: List[int]) -> bool:\n",
    "        return bool(len(nums) > len(set(nums)))\n",
    "\"\"\""
   ]
  }
 ],
 "metadata": {
  "kernelspec": {
   "display_name": "Python 3.11.0 64-bit",
   "language": "python",
   "name": "python3"
  },
  "language_info": {
   "codemirror_mode": {
    "name": "ipython",
    "version": 3
   },
   "file_extension": ".py",
   "mimetype": "text/x-python",
   "name": "python",
   "nbconvert_exporter": "python",
   "pygments_lexer": "ipython3",
   "version": "3.11.0"
  },
  "orig_nbformat": 4,
  "vscode": {
   "interpreter": {
    "hash": "aee8b7b246df8f9039afb4144a1f6fd8d2ca17a180786b69acc140d282b71a49"
   }
  }
 },
 "nbformat": 4,
 "nbformat_minor": 2
}
